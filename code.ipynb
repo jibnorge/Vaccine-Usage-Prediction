{
 "cells": [
  {
   "attachments": {},
   "cell_type": "markdown",
   "metadata": {},
   "source": [
    "**Importing libraries**"
   ]
  },
  {
   "cell_type": "code",
   "execution_count": 101,
   "metadata": {},
   "outputs": [],
   "source": [
    "import pandas as pd\n",
    "import numpy as np\n",
    "\n",
    "import matplotlib.pyplot as plt\n",
    "import seaborn as sns\n",
    "sns.set()\n",
    "\n",
    "import scipy.stats as stats\n",
    "\n",
    "from sklearn.preprocessing import LabelEncoder, OneHotEncoder\n",
    "\n",
    "from sklearn.linear_model import LogisticRegression\n",
    "from sklearn.model_selection import train_test_split\n",
    "\n",
    "from sklearn.metrics import classification_report, confusion_matrix, precision_score, recall_score, f1_score, roc_curve, roc_auc_score\n",
    "\n",
    "import warnings\n",
    "warnings.filterwarnings('ignore')"
   ]
  },
  {
   "cell_type": "code",
   "execution_count": 2,
   "metadata": {},
   "outputs": [],
   "source": [
    "data = pd.read_csv('h1n1_vaccine_prediction.csv')"
   ]
  },
  {
   "cell_type": "raw",
   "metadata": {},
   "source": [
    "Data Dictionary:\n",
    "\n",
    "unique_id: Unique identifier for each respondent\n",
    "\n",
    "h1n1_worry : Worry about the h1n1 flu\n",
    "- 0 : Not worried at all\n",
    "- 1 : Not very worried\n",
    "- 2 : Somewhat worried\n",
    "- 3 : Very worried\n",
    "\n",
    "h1n1_awareness : Signifies the amount of knowledge or understanding the respondent has about h1n1 flu \n",
    "- 0 : No knowledge\n",
    "- 1 : little knowledge\n",
    "- 2 : good knowledge\n",
    "\n",
    "antiviral_medication : Has the respondent taken antiviral vaccination\n",
    "- 0 : No\n",
    "- 1 : Yes\n",
    "\n",
    "contact_avoidance : Has avoided any close contact with people who have flu-like symptoms - (0,1)\n",
    "- 0 : No\n",
    "- 1 : Yes\n",
    "\n",
    "bought_face_mask : Has the respondent bought mask or not\n",
    "- 0 : No\n",
    "- 1 : Yes\n",
    "\n",
    "wash_hands_frequently : Washes hands frequently or uses hand sanitizer\n",
    "- 0 : No\n",
    "- 1 : Yes\n",
    "\n",
    "avoid_large_gatherings : Has the respondent reduced time spent at large gatherings\n",
    "- 0 : No\n",
    "- 1 : Yes\n",
    "\n",
    "reduced_outside_home_cont : Has the respondent reduced contact with people outside their own house\n",
    "- 0 : No\n",
    "- 1 : Yes\n",
    "\n",
    "avoid_touch_face : Avoids touching nose, eyes, mouth\n",
    "- 0 : No\n",
    "- 1 : Yes\n",
    "\n",
    "dr_recc_h1n1_vacc : Doctor has recommended h1n1 vaccine\n",
    "- 0 : No\n",
    "- 1 : Yes\n",
    "\n",
    "dr_recc_seasonal_vacc : The doctor has recommended seasonalflu vaccine \n",
    "- 0 : No\n",
    "- 1 : Yes\n",
    "\n",
    "chronic_medic_condition : Has any chronic medical condition\n",
    "- 0 : No\n",
    "- 1 : Yes\n",
    "\n",
    "cont_child_undr_6_mnth : Has regular contact with child the age of 6 months\n",
    "- 0 : No\n",
    "- 1 : Yes\n",
    "\n",
    "is_health_worker : Is respondent a health worker\n",
    "- 0 : No\n",
    "- 1 : Yes\n",
    "\n",
    "has_health_insur : Does respondent have health insurance\n",
    "- 0 : No\n",
    "- 1 : Yes\n",
    "\n",
    "is_h1n1_vacc_effective : Does respondent think that the h1n1 vaccine is effective \n",
    "- 1 : Thinks not effective at all\n",
    "- 2 : Thinks it is not very effective\n",
    "- 3 : Doesn't know if it is effective or not\n",
    "- 4 : Thinks it is somewhat effective\n",
    "- 5 : Thinks it is highly effective\n",
    "\n",
    "is_h1n1_risky : What respondents think about the risk of getting ill with h1n1 in the absence of the vaccine\n",
    "- 1 : Thinks it is not very low risk\n",
    "- 2 : Thinks it is somewhat low risk\n",
    "- 3 : Don't know if it is risky or not \n",
    "- 4 : Thinks it is a somewhat high risk\n",
    "- 5 : Thinks it is very highly risky\n",
    "\n",
    "sick_from_h1n1_vacc :  Does respondent worry about getting sick by taking the h1n1 vaccine\n",
    "- 1 : Respondent not worried at all\n",
    "- 2 : Respondent is not very worried \n",
    "- 3 : Doesn't know\n",
    "- 4 : Respondent is somewhat worried\n",
    "- 5 : Respondent is very worried\n",
    "\n",
    "is_seas_vacc_effective : Does respondent think that the seasonal vaccine is effective\n",
    "- 1 : Thinks not effective at all\n",
    "- 2 : Thinks it is not very effective\n",
    "- 3 : Doesn't know if it is effective or not\n",
    "- 4 : Thinks it is somewhat effective \n",
    "- 5 : Thinks it is highly effective\n",
    "\n",
    "is_seas_flu_risky : What respondenst think about the risk of getting ill with seasonal flu in the absence of the vaccine\n",
    "- 1 : Thinks it is not very low risk\n",
    "- 2 : Thinks it is somewhat low risk\n",
    "- 3 : Doesn't know if it is risky or not\n",
    "- 4 : Thinks it is somewhat high risk\n",
    "- 5 : Thinks it is very highly risky)\n",
    "\n",
    "sick_from_seas_vacc : Does respondent worry about getting sick by taking the seasonal flu vaccine \n",
    "- 1 : Respondent not worried at all\n",
    "- 2 : Respondent is not very worried \n",
    "- 3 : Doesn't know\n",
    "- 4 : Respondent is somewhat worried\n",
    "- 5 : Respondent is very worried\n",
    "\n",
    "age_bracket: Age bracket of the respondent \n",
    "- 18 - 34 Years\n",
    "- 35 - 44 Years\n",
    "- 45 - 54 Years\n",
    "- 55 - 64 Years\n",
    "- 64+ Years\n",
    "\n",
    "qualification : Qualification/education level of the respondent as per their response\n",
    "- < 12 Years\n",
    "- 12 Years\n",
    "- College \n",
    "- Graduate\n",
    "- Some College\n",
    "\n",
    "race : Respondent's race \n",
    "- White\n",
    "- Black\n",
    "- Other or Multiple \n",
    "- Hispanic\n",
    "\n",
    "sex :  Respondent's sex \n",
    "- Female\n",
    "- Male\n",
    "\n",
    "income_level: Annual income of the respondent as per the 2008 poverty Census \n",
    "- <= $75,000, Above Poverty\n",
    "- \\> $75,000\n",
    "- Below Poverty\n",
    "\n",
    "marital_status : Respondent's marital status \n",
    "- Not Married\n",
    "- Married\n",
    "\n",
    "housing_status : Respondent's housing status \n",
    "- Own\n",
    "- Rent\n",
    "\n",
    "employment : Respondent's employment status \n",
    "- Not in Labor Force\n",
    "- Employed\n",
    "- Unemployed\n",
    "\n",
    "census_msa : Residence of the respondent with the metropolitan statistical area [MSE]\n",
    "- Non-MSA\n",
    "- MSA, Not Principle  City\n",
    "- MSA, Principle City\n",
    "\n",
    "no_of_adults : Number of adults in the respondent's house\n",
    "- 0, 1, 2, 3\n",
    "\n",
    "no_of_children : Number of children in the respondent's house\n",
    "- 0, 1, 2, 3\n",
    "\n",
    "h1n1_vaccine : Target variable, Did the respondent received the h1n1 vaccine or not\n",
    "- 0 : No\n",
    "- 1 : Yes"
   ]
  },
  {
   "cell_type": "code",
   "execution_count": 3,
   "metadata": {},
   "outputs": [
    {
     "data": {
      "text/html": [
       "<div>\n",
       "<style scoped>\n",
       "    .dataframe tbody tr th:only-of-type {\n",
       "        vertical-align: middle;\n",
       "    }\n",
       "\n",
       "    .dataframe tbody tr th {\n",
       "        vertical-align: top;\n",
       "    }\n",
       "\n",
       "    .dataframe thead th {\n",
       "        text-align: right;\n",
       "    }\n",
       "</style>\n",
       "<table border=\"1\" class=\"dataframe\">\n",
       "  <thead>\n",
       "    <tr style=\"text-align: right;\">\n",
       "      <th></th>\n",
       "      <th>unique_id</th>\n",
       "      <th>h1n1_worry</th>\n",
       "      <th>h1n1_awareness</th>\n",
       "      <th>antiviral_medication</th>\n",
       "      <th>contact_avoidance</th>\n",
       "      <th>bought_face_mask</th>\n",
       "      <th>wash_hands_frequently</th>\n",
       "      <th>avoid_large_gatherings</th>\n",
       "      <th>reduced_outside_home_cont</th>\n",
       "      <th>avoid_touch_face</th>\n",
       "      <th>...</th>\n",
       "      <th>race</th>\n",
       "      <th>sex</th>\n",
       "      <th>income_level</th>\n",
       "      <th>marital_status</th>\n",
       "      <th>housing_status</th>\n",
       "      <th>employment</th>\n",
       "      <th>census_msa</th>\n",
       "      <th>no_of_adults</th>\n",
       "      <th>no_of_children</th>\n",
       "      <th>h1n1_vaccine</th>\n",
       "    </tr>\n",
       "  </thead>\n",
       "  <tbody>\n",
       "    <tr>\n",
       "      <th>0</th>\n",
       "      <td>0</td>\n",
       "      <td>1.0</td>\n",
       "      <td>0.0</td>\n",
       "      <td>0.0</td>\n",
       "      <td>0.0</td>\n",
       "      <td>0.0</td>\n",
       "      <td>0.0</td>\n",
       "      <td>0.0</td>\n",
       "      <td>1.0</td>\n",
       "      <td>1.0</td>\n",
       "      <td>...</td>\n",
       "      <td>White</td>\n",
       "      <td>Female</td>\n",
       "      <td>Below Poverty</td>\n",
       "      <td>Not Married</td>\n",
       "      <td>Own</td>\n",
       "      <td>Not in Labor Force</td>\n",
       "      <td>Non-MSA</td>\n",
       "      <td>0.0</td>\n",
       "      <td>0.0</td>\n",
       "      <td>0</td>\n",
       "    </tr>\n",
       "    <tr>\n",
       "      <th>1</th>\n",
       "      <td>1</td>\n",
       "      <td>3.0</td>\n",
       "      <td>2.0</td>\n",
       "      <td>0.0</td>\n",
       "      <td>1.0</td>\n",
       "      <td>0.0</td>\n",
       "      <td>1.0</td>\n",
       "      <td>0.0</td>\n",
       "      <td>1.0</td>\n",
       "      <td>1.0</td>\n",
       "      <td>...</td>\n",
       "      <td>White</td>\n",
       "      <td>Male</td>\n",
       "      <td>Below Poverty</td>\n",
       "      <td>Not Married</td>\n",
       "      <td>Rent</td>\n",
       "      <td>Employed</td>\n",
       "      <td>MSA, Not Principle  City</td>\n",
       "      <td>0.0</td>\n",
       "      <td>0.0</td>\n",
       "      <td>0</td>\n",
       "    </tr>\n",
       "    <tr>\n",
       "      <th>2</th>\n",
       "      <td>2</td>\n",
       "      <td>1.0</td>\n",
       "      <td>1.0</td>\n",
       "      <td>0.0</td>\n",
       "      <td>1.0</td>\n",
       "      <td>0.0</td>\n",
       "      <td>0.0</td>\n",
       "      <td>0.0</td>\n",
       "      <td>0.0</td>\n",
       "      <td>0.0</td>\n",
       "      <td>...</td>\n",
       "      <td>White</td>\n",
       "      <td>Male</td>\n",
       "      <td>&lt;= $75,000, Above Poverty</td>\n",
       "      <td>Not Married</td>\n",
       "      <td>Own</td>\n",
       "      <td>Employed</td>\n",
       "      <td>MSA, Not Principle  City</td>\n",
       "      <td>2.0</td>\n",
       "      <td>0.0</td>\n",
       "      <td>0</td>\n",
       "    </tr>\n",
       "    <tr>\n",
       "      <th>3</th>\n",
       "      <td>3</td>\n",
       "      <td>1.0</td>\n",
       "      <td>1.0</td>\n",
       "      <td>0.0</td>\n",
       "      <td>1.0</td>\n",
       "      <td>0.0</td>\n",
       "      <td>1.0</td>\n",
       "      <td>1.0</td>\n",
       "      <td>0.0</td>\n",
       "      <td>0.0</td>\n",
       "      <td>...</td>\n",
       "      <td>White</td>\n",
       "      <td>Female</td>\n",
       "      <td>Below Poverty</td>\n",
       "      <td>Not Married</td>\n",
       "      <td>Rent</td>\n",
       "      <td>Not in Labor Force</td>\n",
       "      <td>MSA, Principle City</td>\n",
       "      <td>0.0</td>\n",
       "      <td>0.0</td>\n",
       "      <td>0</td>\n",
       "    </tr>\n",
       "    <tr>\n",
       "      <th>4</th>\n",
       "      <td>4</td>\n",
       "      <td>2.0</td>\n",
       "      <td>1.0</td>\n",
       "      <td>0.0</td>\n",
       "      <td>1.0</td>\n",
       "      <td>0.0</td>\n",
       "      <td>1.0</td>\n",
       "      <td>1.0</td>\n",
       "      <td>0.0</td>\n",
       "      <td>1.0</td>\n",
       "      <td>...</td>\n",
       "      <td>White</td>\n",
       "      <td>Female</td>\n",
       "      <td>&lt;= $75,000, Above Poverty</td>\n",
       "      <td>Married</td>\n",
       "      <td>Own</td>\n",
       "      <td>Employed</td>\n",
       "      <td>MSA, Not Principle  City</td>\n",
       "      <td>1.0</td>\n",
       "      <td>0.0</td>\n",
       "      <td>0</td>\n",
       "    </tr>\n",
       "  </tbody>\n",
       "</table>\n",
       "<p>5 rows × 34 columns</p>\n",
       "</div>"
      ],
      "text/plain": [
       "   unique_id  h1n1_worry  h1n1_awareness  antiviral_medication  \\\n",
       "0          0         1.0             0.0                   0.0   \n",
       "1          1         3.0             2.0                   0.0   \n",
       "2          2         1.0             1.0                   0.0   \n",
       "3          3         1.0             1.0                   0.0   \n",
       "4          4         2.0             1.0                   0.0   \n",
       "\n",
       "   contact_avoidance  bought_face_mask  wash_hands_frequently  \\\n",
       "0                0.0               0.0                    0.0   \n",
       "1                1.0               0.0                    1.0   \n",
       "2                1.0               0.0                    0.0   \n",
       "3                1.0               0.0                    1.0   \n",
       "4                1.0               0.0                    1.0   \n",
       "\n",
       "   avoid_large_gatherings  reduced_outside_home_cont  avoid_touch_face  ...  \\\n",
       "0                     0.0                        1.0               1.0  ...   \n",
       "1                     0.0                        1.0               1.0  ...   \n",
       "2                     0.0                        0.0               0.0  ...   \n",
       "3                     1.0                        0.0               0.0  ...   \n",
       "4                     1.0                        0.0               1.0  ...   \n",
       "\n",
       "    race     sex               income_level  marital_status  housing_status  \\\n",
       "0  White  Female              Below Poverty     Not Married             Own   \n",
       "1  White    Male              Below Poverty     Not Married            Rent   \n",
       "2  White    Male  <= $75,000, Above Poverty     Not Married             Own   \n",
       "3  White  Female              Below Poverty     Not Married            Rent   \n",
       "4  White  Female  <= $75,000, Above Poverty         Married             Own   \n",
       "\n",
       "           employment                census_msa  no_of_adults  no_of_children  \\\n",
       "0  Not in Labor Force                   Non-MSA           0.0             0.0   \n",
       "1            Employed  MSA, Not Principle  City           0.0             0.0   \n",
       "2            Employed  MSA, Not Principle  City           2.0             0.0   \n",
       "3  Not in Labor Force       MSA, Principle City           0.0             0.0   \n",
       "4            Employed  MSA, Not Principle  City           1.0             0.0   \n",
       "\n",
       "   h1n1_vaccine  \n",
       "0             0  \n",
       "1             0  \n",
       "2             0  \n",
       "3             0  \n",
       "4             0  \n",
       "\n",
       "[5 rows x 34 columns]"
      ]
     },
     "execution_count": 3,
     "metadata": {},
     "output_type": "execute_result"
    }
   ],
   "source": [
    "data.head()"
   ]
  },
  {
   "cell_type": "code",
   "execution_count": 4,
   "metadata": {},
   "outputs": [
    {
     "data": {
      "text/plain": [
       "(26707, 34)"
      ]
     },
     "execution_count": 4,
     "metadata": {},
     "output_type": "execute_result"
    }
   ],
   "source": [
    "data.shape"
   ]
  },
  {
   "cell_type": "code",
   "execution_count": 5,
   "metadata": {},
   "outputs": [
    {
     "name": "stdout",
     "output_type": "stream",
     "text": [
      "<class 'pandas.core.frame.DataFrame'>\n",
      "RangeIndex: 26707 entries, 0 to 26706\n",
      "Data columns (total 34 columns):\n",
      " #   Column                     Non-Null Count  Dtype  \n",
      "---  ------                     --------------  -----  \n",
      " 0   unique_id                  26707 non-null  int64  \n",
      " 1   h1n1_worry                 26615 non-null  float64\n",
      " 2   h1n1_awareness             26591 non-null  float64\n",
      " 3   antiviral_medication       26636 non-null  float64\n",
      " 4   contact_avoidance          26499 non-null  float64\n",
      " 5   bought_face_mask           26688 non-null  float64\n",
      " 6   wash_hands_frequently      26665 non-null  float64\n",
      " 7   avoid_large_gatherings     26620 non-null  float64\n",
      " 8   reduced_outside_home_cont  26625 non-null  float64\n",
      " 9   avoid_touch_face           26579 non-null  float64\n",
      " 10  dr_recc_h1n1_vacc          24547 non-null  float64\n",
      " 11  dr_recc_seasonal_vacc      24547 non-null  float64\n",
      " 12  chronic_medic_condition    25736 non-null  float64\n",
      " 13  cont_child_undr_6_mnths    25887 non-null  float64\n",
      " 14  is_health_worker           25903 non-null  float64\n",
      " 15  has_health_insur           14433 non-null  float64\n",
      " 16  is_h1n1_vacc_effective     26316 non-null  float64\n",
      " 17  is_h1n1_risky              26319 non-null  float64\n",
      " 18  sick_from_h1n1_vacc        26312 non-null  float64\n",
      " 19  is_seas_vacc_effective     26245 non-null  float64\n",
      " 20  is_seas_risky              26193 non-null  float64\n",
      " 21  sick_from_seas_vacc        26170 non-null  float64\n",
      " 22  age_bracket                26707 non-null  object \n",
      " 23  qualification              25300 non-null  object \n",
      " 24  race                       26707 non-null  object \n",
      " 25  sex                        26707 non-null  object \n",
      " 26  income_level               22284 non-null  object \n",
      " 27  marital_status             25299 non-null  object \n",
      " 28  housing_status             24665 non-null  object \n",
      " 29  employment                 25244 non-null  object \n",
      " 30  census_msa                 26707 non-null  object \n",
      " 31  no_of_adults               26458 non-null  float64\n",
      " 32  no_of_children             26458 non-null  float64\n",
      " 33  h1n1_vaccine               26707 non-null  int64  \n",
      "dtypes: float64(23), int64(2), object(9)\n",
      "memory usage: 6.9+ MB\n"
     ]
    }
   ],
   "source": [
    "data.info()"
   ]
  },
  {
   "cell_type": "code",
   "execution_count": 6,
   "metadata": {},
   "outputs": [
    {
     "data": {
      "text/plain": [
       "unique_id                        0\n",
       "h1n1_worry                      92\n",
       "h1n1_awareness                 116\n",
       "antiviral_medication            71\n",
       "contact_avoidance              208\n",
       "bought_face_mask                19\n",
       "wash_hands_frequently           42\n",
       "avoid_large_gatherings          87\n",
       "reduced_outside_home_cont       82\n",
       "avoid_touch_face               128\n",
       "dr_recc_h1n1_vacc             2160\n",
       "dr_recc_seasonal_vacc         2160\n",
       "chronic_medic_condition        971\n",
       "cont_child_undr_6_mnths        820\n",
       "is_health_worker               804\n",
       "has_health_insur             12274\n",
       "is_h1n1_vacc_effective         391\n",
       "is_h1n1_risky                  388\n",
       "sick_from_h1n1_vacc            395\n",
       "is_seas_vacc_effective         462\n",
       "is_seas_risky                  514\n",
       "sick_from_seas_vacc            537\n",
       "age_bracket                      0\n",
       "qualification                 1407\n",
       "race                             0\n",
       "sex                              0\n",
       "income_level                  4423\n",
       "marital_status                1408\n",
       "housing_status                2042\n",
       "employment                    1463\n",
       "census_msa                       0\n",
       "no_of_adults                   249\n",
       "no_of_children                 249\n",
       "h1n1_vaccine                     0\n",
       "dtype: int64"
      ]
     },
     "execution_count": 6,
     "metadata": {},
     "output_type": "execute_result"
    }
   ],
   "source": [
    "data.isna().sum()"
   ]
  },
  {
   "cell_type": "code",
   "execution_count": 7,
   "metadata": {},
   "outputs": [
    {
     "data": {
      "text/plain": [
       "0    78.75\n",
       "1    21.25\n",
       "Name: h1n1_vaccine, dtype: float64"
      ]
     },
     "execution_count": 7,
     "metadata": {},
     "output_type": "execute_result"
    }
   ],
   "source": [
    "round(data['h1n1_vaccine'].value_counts(normalize = True)*100,2)"
   ]
  },
  {
   "cell_type": "markdown",
   "metadata": {},
   "source": [
    "The data is unbalanced."
   ]
  },
  {
   "attachments": {},
   "cell_type": "markdown",
   "metadata": {},
   "source": [
    "**Feature Selection**\n",
    "- Missing value Treatment"
   ]
  },
  {
   "cell_type": "code",
   "execution_count": 8,
   "metadata": {},
   "outputs": [],
   "source": [
    "def missing_plot(data):\n",
    "    \"\"\"\n",
    "    Docstring\n",
    "    ---------\n",
    "    Shows the count of missing values for each features in bars.\n",
    "    \n",
    "    Parameters\n",
    "    ----------\n",
    "        data (Series or DataFrame):\n",
    "\n",
    "        Data for which missing values should be found.\n",
    "    \n",
    "    Returns\n",
    "    -------\n",
    "        barplot:\n",
    "\n",
    "        The barplot with missing values.\n",
    "    \"\"\"\n",
    "    plt.figure(figsize = (15,5))\n",
    "    missing = data.isnull().sum()\n",
    "    missing = missing[missing > 0]\n",
    "    missing.sort_values(ascending = False, inplace = True)\n",
    "    plt.xlabel('Features')\n",
    "    plt.ylabel('Number of missing values')\n",
    "    plt.ylim(0,len(data))\n",
    "    plt.title('Number of missing values by feature.')\n",
    "    missing.plot(kind = 'bar')\n",
    "    plt.show()"
   ]
  },
  {
   "cell_type": "code",
   "execution_count": 9,
   "metadata": {
    "scrolled": true
   },
   "outputs": [
    {
     "data": {
      "image/png": "[encoded data removed]",
      "text/plain": [
       "<Figure size 1080x360 with 1 Axes>"
      ]
     },
     "metadata": {},
     "output_type": "display_data"
    }
   ],
   "source": [
    "missing_plot(data)"
   ]
  },
  {
   "cell_type": "code",
   "execution_count": 10,
   "metadata": {},
   "outputs": [],
   "source": [
    "# Dropping features with more than 30% of missing values\n",
    "missing = data.isnull().sum()\n",
    "missing = list(missing[missing > (len(data)*(3/10))].index)\n",
    "data.drop(columns = missing, inplace = True)"
   ]
  },
  {
   "cell_type": "code",
   "execution_count": 11,
   "metadata": {},
   "outputs": [],
   "source": [
    "def value_count(data,x,nan):\n",
    "    \"\"\"\n",
    "    Docstring\n",
    "    ---------\n",
    "    Returns the count of each categories in percentage.\n",
    "    \n",
    "    Parameters\n",
    "    ----------\n",
    "        data (Series or Dataframe):\n",
    "\n",
    "        The data used to find value_counts.\n",
    "\n",
    "        x (Series):\n",
    "\n",
    "        The specific column for which the value_counts should be found.\n",
    "\n",
    "        nan (bool):\n",
    "\n",
    "        If True the null values will also be considered \n",
    "    \n",
    "    Returns\n",
    "    -------\n",
    "        Dataframe:\n",
    "\n",
    "        The dataframe contaning the value counts of specified column in percentage.\n",
    "    \"\"\"\n",
    "    return pd.DataFrame(round(data[x].value_counts(normalize = True, dropna = not nan)*100,2))"
   ]
  },
  {
   "cell_type": "code",
   "execution_count": 12,
   "metadata": {},
   "outputs": [
    {
     "data": {
      "text/html": [
       "<div>\n",
       "<style scoped>\n",
       "    .dataframe tbody tr th:only-of-type {\n",
       "        vertical-align: middle;\n",
       "    }\n",
       "\n",
       "    .dataframe tbody tr th {\n",
       "        vertical-align: top;\n",
       "    }\n",
       "\n",
       "    .dataframe thead th {\n",
       "        text-align: right;\n",
       "    }\n",
       "</style>\n",
       "<table border=\"1\" class=\"dataframe\">\n",
       "  <thead>\n",
       "    <tr style=\"text-align: right;\">\n",
       "      <th></th>\n",
       "      <th>income_level</th>\n",
       "    </tr>\n",
       "  </thead>\n",
       "  <tbody>\n",
       "    <tr>\n",
       "      <th>&lt;= $75,000, Above Poverty</th>\n",
       "      <td>47.84</td>\n",
       "    </tr>\n",
       "    <tr>\n",
       "      <th>&gt; $75,000</th>\n",
       "      <td>25.50</td>\n",
       "    </tr>\n",
       "    <tr>\n",
       "      <th>NaN</th>\n",
       "      <td>16.56</td>\n",
       "    </tr>\n",
       "    <tr>\n",
       "      <th>Below Poverty</th>\n",
       "      <td>10.10</td>\n",
       "    </tr>\n",
       "  </tbody>\n",
       "</table>\n",
       "</div>"
      ],
      "text/plain": [
       "                           income_level\n",
       "<= $75,000, Above Poverty         47.84\n",
       "> $75,000                         25.50\n",
       "NaN                               16.56\n",
       "Below Poverty                     10.10"
      ]
     },
     "execution_count": 12,
     "metadata": {},
     "output_type": "execute_result"
    }
   ],
   "source": [
    "# Income level\n",
    "value_count(data,x = 'income_level', nan = True)"
   ]
  },
  {
   "cell_type": "markdown",
   "metadata": {},
   "source": [
    "16% of income_level contains null values"
   ]
  },
  {
   "cell_type": "code",
   "execution_count": 13,
   "metadata": {},
   "outputs": [],
   "source": [
    "# Filling missing values by -1 for easy analysis\n",
    "data['income_level'].fillna(value = -1, inplace = True)"
   ]
  },
  {
   "cell_type": "code",
   "execution_count": 14,
   "metadata": {},
   "outputs": [
    {
     "data": {
      "text/plain": [
       "<AxesSubplot:xlabel='employment', ylabel='count'>"
      ]
     },
     "execution_count": 14,
     "metadata": {},
     "output_type": "execute_result"
    },
    {
     "data": {
      "image/png": "[encoded data removed]",
      "text/plain": [
       "<Figure size 1440x576 with 2 Axes>"
      ]
     },
     "metadata": {},
     "output_type": "display_data"
    }
   ],
   "source": [
    "fig, (ax1,ax2) = plt.subplots(nrows = 1, ncols = 2, figsize = (20,8))\n",
    "sns.countplot(data = data, x = 'qualification', hue = 'income_level', ax = ax1)\n",
    "sns.countplot(data = data, x = 'employment', hue = 'income_level', ax = ax2)"
   ]
  },
  {
   "cell_type": "markdown",
   "metadata": {},
   "source": [
    "- Income level of a person is most likely to be depend on thier qualification and employment status:\n",
    "- The missing values of income_level are equally distibuted incase of qualification.\n",
    "- Comparing with employment most of the nan values are employed or not part of labor force.\n",
    "- This increases the chance of them being classified as people who are above poverty."
   ]
  },
  {
   "cell_type": "code",
   "execution_count": 15,
   "metadata": {},
   "outputs": [],
   "source": [
    "# Imputing with the mode value\n",
    "data['income_level'] = data['income_level'].map(lambda x: data['income_level'].mode().values[0] if x == -1 else x)"
   ]
  },
  {
   "cell_type": "code",
   "execution_count": 16,
   "metadata": {},
   "outputs": [
    {
     "data": {
      "text/html": [
       "<div>\n",
       "<style scoped>\n",
       "    .dataframe tbody tr th:only-of-type {\n",
       "        vertical-align: middle;\n",
       "    }\n",
       "\n",
       "    .dataframe tbody tr th {\n",
       "        vertical-align: top;\n",
       "    }\n",
       "\n",
       "    .dataframe thead th {\n",
       "        text-align: right;\n",
       "    }\n",
       "</style>\n",
       "<table border=\"1\" class=\"dataframe\">\n",
       "  <thead>\n",
       "    <tr style=\"text-align: right;\">\n",
       "      <th></th>\n",
       "      <th>dr_recc_seasonal_vacc</th>\n",
       "    </tr>\n",
       "  </thead>\n",
       "  <tbody>\n",
       "    <tr>\n",
       "      <th>0.0</th>\n",
       "      <td>61.61</td>\n",
       "    </tr>\n",
       "    <tr>\n",
       "      <th>1.0</th>\n",
       "      <td>30.31</td>\n",
       "    </tr>\n",
       "    <tr>\n",
       "      <th>NaN</th>\n",
       "      <td>8.09</td>\n",
       "    </tr>\n",
       "  </tbody>\n",
       "</table>\n",
       "</div>"
      ],
      "text/plain": [
       "     dr_recc_seasonal_vacc\n",
       "0.0                  61.61\n",
       "1.0                  30.31\n",
       "NaN                   8.09"
      ]
     },
     "execution_count": 16,
     "metadata": {},
     "output_type": "execute_result"
    }
   ],
   "source": [
    "# dr_recc_seasonal_vacc\n",
    "value_count(data = data, x = 'dr_recc_seasonal_vacc', nan = True)"
   ]
  },
  {
   "attachments": {},
   "cell_type": "markdown",
   "metadata": {},
   "source": [
    "8% of dr_recc_seasonal_vacc contains null values"
   ]
  },
  {
   "cell_type": "code",
   "execution_count": 17,
   "metadata": {},
   "outputs": [],
   "source": [
    "# Filling missing values by -1 for easy analysis\n",
    "data['dr_recc_seasonal_vacc'].fillna(value = -1, inplace = True)\n",
    "\n",
    "# Imputing with the mode value\n",
    "data['dr_recc_seasonal_vacc'] = data['dr_recc_seasonal_vacc'].map(lambda x: data['dr_recc_seasonal_vacc'].mode().values[0] if x == -1 else x)"
   ]
  },
  {
   "cell_type": "code",
   "execution_count": 26,
   "metadata": {},
   "outputs": [],
   "source": [
    "# Filling rest of the columns with mode values as each column is categorical and has only less than 10% of missing values.\n",
    "data.fillna(data.mode().iloc[0], inplace = True)"
   ]
  },
  {
   "cell_type": "code",
   "execution_count": 28,
   "metadata": {},
   "outputs": [],
   "source": [
    "# Removing id column as it is unique for each record and does not contribute to model building\n",
    "data.drop(columns = 'unique_id', inplace = True)"
   ]
  },
  {
   "attachments": {},
   "cell_type": "markdown",
   "metadata": {},
   "source": [
    "- Type Casting"
   ]
  },
  {
   "cell_type": "code",
   "execution_count": 30,
   "metadata": {},
   "outputs": [],
   "source": [
    "# Since every column is categorical, we have to change the datatype for each column as object\n",
    "data = data.astype('object')"
   ]
  },
  {
   "cell_type": "code",
   "execution_count": 31,
   "metadata": {},
   "outputs": [
    {
     "name": "stdout",
     "output_type": "stream",
     "text": [
      "<class 'pandas.core.frame.DataFrame'>\n",
      "RangeIndex: 26707 entries, 0 to 26706\n",
      "Data columns (total 32 columns):\n",
      " #   Column                     Non-Null Count  Dtype \n",
      "---  ------                     --------------  ----- \n",
      " 0   h1n1_worry                 26707 non-null  object\n",
      " 1   h1n1_awareness             26707 non-null  object\n",
      " 2   antiviral_medication       26707 non-null  object\n",
      " 3   contact_avoidance          26707 non-null  object\n",
      " 4   bought_face_mask           26707 non-null  object\n",
      " 5   wash_hands_frequently      26707 non-null  object\n",
      " 6   avoid_large_gatherings     26707 non-null  object\n",
      " 7   reduced_outside_home_cont  26707 non-null  object\n",
      " 8   avoid_touch_face           26707 non-null  object\n",
      " 9   dr_recc_h1n1_vacc          26707 non-null  object\n",
      " 10  dr_recc_seasonal_vacc      26707 non-null  object\n",
      " 11  chronic_medic_condition    26707 non-null  object\n",
      " 12  cont_child_undr_6_mnths    26707 non-null  object\n",
      " 13  is_health_worker           26707 non-null  object\n",
      " 14  is_h1n1_vacc_effective     26707 non-null  object\n",
      " 15  is_h1n1_risky              26707 non-null  object\n",
      " 16  sick_from_h1n1_vacc        26707 non-null  object\n",
      " 17  is_seas_vacc_effective     26707 non-null  object\n",
      " 18  is_seas_risky              26707 non-null  object\n",
      " 19  sick_from_seas_vacc        26707 non-null  object\n",
      " 20  age_bracket                26707 non-null  object\n",
      " 21  qualification              26707 non-null  object\n",
      " 22  race                       26707 non-null  object\n",
      " 23  sex                        26707 non-null  object\n",
      " 24  income_level               26707 non-null  object\n",
      " 25  marital_status             26707 non-null  object\n",
      " 26  housing_status             26707 non-null  object\n",
      " 27  employment                 26707 non-null  object\n",
      " 28  census_msa                 26707 non-null  object\n",
      " 29  no_of_adults               26707 non-null  object\n",
      " 30  no_of_children             26707 non-null  object\n",
      " 31  h1n1_vaccine               26707 non-null  object\n",
      "dtypes: object(32)\n",
      "memory usage: 6.5+ MB\n"
     ]
    }
   ],
   "source": [
    "data.info()"
   ]
  },
  {
   "attachments": {},
   "cell_type": "markdown",
   "metadata": {},
   "source": [
    "**Train Test Split**"
   ]
  },
  {
   "cell_type": "code",
   "execution_count": 47,
   "metadata": {},
   "outputs": [],
   "source": [
    "x = data.iloc[:,:-1]\n",
    "y = data.iloc[:,-1]"
   ]
  },
  {
   "cell_type": "code",
   "execution_count": 66,
   "metadata": {},
   "outputs": [],
   "source": [
    "x_train,x_test,y_train,y_test = train_test_split(x,y,test_size = 0.3, random_state = 123, stratify = y) # Since data is unbalanced"
   ]
  },
  {
   "cell_type": "code",
   "execution_count": 67,
   "metadata": {},
   "outputs": [
    {
     "data": {
      "text/plain": [
       "(18694, 31)"
      ]
     },
     "execution_count": 67,
     "metadata": {},
     "output_type": "execute_result"
    }
   ],
   "source": [
    "x_train.shape"
   ]
  },
  {
   "cell_type": "code",
   "execution_count": 68,
   "metadata": {},
   "outputs": [
    {
     "data": {
      "text/plain": [
       "(8013, 31)"
      ]
     },
     "execution_count": 68,
     "metadata": {},
     "output_type": "execute_result"
    }
   ],
   "source": [
    "x_test.shape"
   ]
  },
  {
   "cell_type": "code",
   "execution_count": 69,
   "metadata": {},
   "outputs": [
    {
     "data": {
      "text/plain": [
       "(18694,)"
      ]
     },
     "execution_count": 69,
     "metadata": {},
     "output_type": "execute_result"
    }
   ],
   "source": [
    "y_train.shape"
   ]
  },
  {
   "cell_type": "code",
   "execution_count": 70,
   "metadata": {},
   "outputs": [
    {
     "data": {
      "text/plain": [
       "(8013,)"
      ]
     },
     "execution_count": 70,
     "metadata": {},
     "output_type": "execute_result"
    }
   ],
   "source": [
    "y_test.shape"
   ]
  },
  {
   "attachments": {},
   "cell_type": "markdown",
   "metadata": {},
   "source": [
    "**Encoding Categorical Variables**"
   ]
  },
  {
   "cell_type": "code",
   "execution_count": 71,
   "metadata": {},
   "outputs": [],
   "source": [
    "encoder = OneHotEncoder()\n",
    "x_train_encoded = encoder.fit_transform(x_train)\n",
    "x_test_encoded = encoder.transform(x_test)"
   ]
  },
  {
   "cell_type": "code",
   "execution_count": 72,
   "metadata": {},
   "outputs": [],
   "source": [
    "le = LabelEncoder()\n",
    "y_train_encoded = le.fit_transform(y_train)\n",
    "y_test_encoded = le.transform(y_test)"
   ]
  },
  {
   "cell_type": "code",
   "execution_count": 73,
   "metadata": {},
   "outputs": [],
   "source": [
    "# Reshaping into a 2D array for sklearn models\n",
    "y_train_reshaped = y_train_encoded.reshape(-1,1)\n",
    "y_test_reshaped = y_test_encoded.reshape(-1,1)"
   ]
  },
  {
   "attachments": {},
   "cell_type": "markdown",
   "metadata": {},
   "source": [
    "**Logistic Regression**"
   ]
  },
  {
   "cell_type": "code",
   "execution_count": 74,
   "metadata": {},
   "outputs": [
    {
     "data": {
      "text/plain": [
       "LogisticRegression()"
      ]
     },
     "execution_count": 74,
     "metadata": {},
     "output_type": "execute_result"
    }
   ],
   "source": [
    "model = LogisticRegression()\n",
    "model.fit(x_train_encoded,y_train_reshaped)"
   ]
  },
  {
   "cell_type": "code",
   "execution_count": 75,
   "metadata": {},
   "outputs": [],
   "source": [
    "y_pred = model.predict(x_test_encoded)"
   ]
  },
  {
   "cell_type": "code",
   "execution_count": 82,
   "metadata": {},
   "outputs": [
    {
     "name": "stdout",
     "output_type": "stream",
     "text": [
      "              precision    recall  f1-score   support\n",
      "\n",
      "           0       0.86      0.95      0.90      6311\n",
      "           1       0.68      0.41      0.51      1702\n",
      "\n",
      "    accuracy                           0.83      8013\n",
      "   macro avg       0.77      0.68      0.71      8013\n",
      "weighted avg       0.82      0.83      0.82      8013\n",
      "\n"
     ]
    }
   ],
   "source": [
    "print(classification_report(y_test_reshaped,y_pred))"
   ]
  },
  {
   "cell_type": "code",
   "execution_count": 95,
   "metadata": {},
   "outputs": [
    {
     "data": {
      "image/png": "[encoded data removed]",
      "text/plain": [
       "<Figure size 1080x576 with 2 Axes>"
      ]
     },
     "metadata": {},
     "output_type": "display_data"
    }
   ],
   "source": [
    "fig, ax = plt.subplots(nrows = 1, ncols = 1, figsize = (15,8))\n",
    "sns.heatmap(confusion_matrix(y_test_reshaped,y_pred),cmap = 'Blues', annot = True, fmt = 'g', ax = ax)\n",
    "ax.set_title('Confusion Matrix')\n",
    "ax.set_xlabel('Predicted')\n",
    "ax.set_xticklabels(['No','Yes'])\n",
    "ax.set_ylabel('Actual')\n",
    "ax.set_yticklabels(['No','Yes'])\n",
    "plt.show()"
   ]
  },
  {
   "cell_type": "code",
   "execution_count": 92,
   "metadata": {},
   "outputs": [
    {
     "name": "stdout",
     "output_type": "stream",
     "text": [
      "Precision score Training : 0.69\n",
      "Precision score Testing : 0.68\n",
      "\n",
      "\n",
      "Recall score Training : 0.43\n",
      "Recall score Testing : 0.41\n",
      "\n",
      "\n",
      "F1 score Training : 0.53\n",
      "F1 score Testing : 0.51\n"
     ]
    }
   ],
   "source": [
    "print(f'Precision score Training : {precision_score(y_train_reshaped,model.predict(x_train_encoded)):1.2f}')\n",
    "print(f'Precision score Testing : {precision_score(y_test_reshaped,model.predict(x_test_encoded)):1.2f}')\n",
    "\n",
    "print('\\n')\n",
    "\n",
    "print(f'Recall score Training : {recall_score(y_train_reshaped,model.predict(x_train_encoded)):1.2f}')\n",
    "print(f'Recall score Testing : {recall_score(y_test_reshaped,model.predict(x_test_encoded)):1.2f}')\n",
    "\n",
    "print('\\n')\n",
    "\n",
    "print(f'F1 score Training : {f1_score(y_train_reshaped,model.predict(x_train_encoded)):1.2f}')\n",
    "print(f'F1 score Testing : {f1_score(y_test_reshaped,model.predict(x_test_encoded)):1.2f}')"
   ]
  },
  {
   "cell_type": "code",
   "execution_count": 107,
   "metadata": {},
   "outputs": [
    {
     "name": "stdout",
     "output_type": "stream",
     "text": [
      "ROC_AUC score : 0.680027048812055\n"
     ]
    }
   ],
   "source": [
    "fpr,tpr,threshold = roc_curve(y_test_reshaped,y_pred, drop_intermediate = False)\n",
    "print(f'ROC_AUC score : {roc_auc_score(y_test_reshaped,y_pred)}')"
   ]
  },
  {
   "cell_type": "code",
   "execution_count": 108,
   "metadata": {},
   "outputs": [
    {
     "data": {
      "image/png": "[encoded data removed]",
      "text/plain": [
       "<Figure size 720x720 with 1 Axes>"
      ]
     },
     "metadata": {},
     "output_type": "display_data"
    }
   ],
   "source": [
    "plt.subplots(1, figsize=(10,10))\n",
    "plt.title('Receiver Operating Characteristic')\n",
    "plt.plot(fpr, tpr)\n",
    "plt.plot([0, 1], ls=\"--\")\n",
    "plt.ylabel('True Positive Rate')\n",
    "plt.xlabel('False Positive Rate')\n",
    "plt.show()"
   ]
  }
 ],
 "metadata": {
  "kernelspec": {
   "display_name": "Python 3 (ipykernel)",
   "language": "python",
   "name": "python3"
  },
  "language_info": {
   "codemirror_mode": {
    "name": "ipython",
    "version": 3
   },
   "file_extension": ".py",
   "mimetype": "text/x-python",
   "name": "python",
   "nbconvert_exporter": "python",
   "pygments_lexer": "ipython3",
   "version": "3.9.12"
  },
  "vscode": {
   "interpreter": {
    "hash": "52d90d3cc821dd0beedd6e719dbdecc722c226b9d90ed1b663c34e1877f1142e"
   }
  }
 },
 "nbformat": 4,
 "nbformat_minor": 2
}
